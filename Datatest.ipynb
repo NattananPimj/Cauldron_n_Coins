{
 "cells": [
  {
   "cell_type": "code",
   "id": "initial_id",
   "metadata": {
    "collapsed": true,
    "ExecuteTime": {
     "end_time": "2025-05-04T16:15:53.065860Z",
     "start_time": "2025-05-04T16:15:53.061920Z"
    }
   },
   "source": "import csv",
   "outputs": [],
   "execution_count": 1
  },
  {
   "metadata": {
    "ExecuteTime": {
     "end_time": "2025-05-04T16:18:31.151196Z",
     "start_time": "2025-05-04T16:18:31.148371Z"
    }
   },
   "cell_type": "code",
   "source": [
    "c = {\n",
    "    'a': 'herb_use.csv'\n",
    "}"
   ],
   "id": "1c73381db00d979f",
   "outputs": [],
   "execution_count": 7
  },
  {
   "metadata": {
    "ExecuteTime": {
     "end_time": "2025-05-04T16:18:31.588796Z",
     "start_time": "2025-05-04T16:18:31.585733Z"
    }
   },
   "cell_type": "code",
   "source": [
    "tmp = []\n",
    "with open(\"database/\"+c['a'], 'r') as file:\n",
    "    reader = csv.DictReader(file)\n",
    "    for row in reader:\n",
    "        tmp.append(row)"
   ],
   "id": "4e64aad43370f71c",
   "outputs": [],
   "execution_count": 8
  },
  {
   "metadata": {
    "ExecuteTime": {
     "end_time": "2025-05-04T16:18:33.482079Z",
     "start_time": "2025-05-04T16:18:33.477715Z"
    }
   },
   "cell_type": "code",
   "source": "tmp",
   "id": "2ea83955385078",
   "outputs": [
    {
     "data": {
      "text/plain": [
       "[]"
      ]
     },
     "execution_count": 9,
     "metadata": {},
     "output_type": "execute_result"
    }
   ],
   "execution_count": 9
  },
  {
   "metadata": {},
   "cell_type": "code",
   "outputs": [],
   "execution_count": null,
   "source": "",
   "id": "4db2cbf1c0af7023"
  }
 ],
 "metadata": {
  "kernelspec": {
   "display_name": "Python 3",
   "language": "python",
   "name": "python3"
  },
  "language_info": {
   "codemirror_mode": {
    "name": "ipython",
    "version": 2
   },
   "file_extension": ".py",
   "mimetype": "text/x-python",
   "name": "python",
   "nbconvert_exporter": "python",
   "pygments_lexer": "ipython2",
   "version": "2.7.6"
  }
 },
 "nbformat": 4,
 "nbformat_minor": 5
}
