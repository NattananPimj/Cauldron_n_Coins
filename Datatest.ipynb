{
 "cells": [
  {
   "cell_type": "code",
   "id": "initial_id",
   "metadata": {
    "collapsed": true,
    "ExecuteTime": {
     "end_time": "2025-05-05T05:19:58.236080Z",
     "start_time": "2025-05-05T05:19:58.232012Z"
    }
   },
   "source": [
    "import csv\n",
    "import pandas as pd\n",
    "import numpy as np\n",
    "import matplotlib.pyplot as plt\n",
    "from cnc_config import Config"
   ],
   "outputs": [],
   "execution_count": 41
  },
  {
   "metadata": {},
   "cell_type": "markdown",
   "source": "",
   "id": "ebaffd758d59a7dc"
  },
  {
   "metadata": {
    "ExecuteTime": {
     "end_time": "2025-05-05T05:19:12.450971Z",
     "start_time": "2025-05-05T05:19:12.384871Z"
    }
   },
   "cell_type": "code",
   "source": [
    "import matplotlib.pyplot as plt\n",
    "import pandas as pd\n",
    "\n",
    "# Sample data (replace with your actual data)\n",
    "data = {'Movie Title': ['a', 'b', 'c', 'd', 'a'], \n",
    "        'Order': [0, 1, 2, 3, 2],}\n",
    "df = pd.DataFrame(data)\n",
    "\n",
    "# Create the scatter plot\n",
    "fig, ax = plt.subplots()\n",
    "\n",
    "# Iterate through genres and plot with different colors\n",
    "# for genre in df['Genre'].unique():\n",
    "#     subset = df[df['Genre'] == genre]\n",
    "#     ax.scatter(subset['Movie Title'], subset['Order'], \n",
    "#                label=genre, # Add label for legend\n",
    "#                c='blue' if genre == 'genre1' else 'red')\n",
    "\n",
    "# ax.scatter(data['Movie Title'], data['Order'])\n",
    "\n",
    "# Add labels and title\n",
    "ax.set_xlabel('Movie Title')\n",
    "ax.set_ylabel('Order')\n",
    "ax.set_title('Movie Order by Genre')\n",
    "\n",
    "# Show legend\n",
    "# plt.legend()\n",
    "\n",
    "# Show the plot\n",
    "plt.show()"
   ],
   "id": "4db2cbf1c0af7023",
   "outputs": [
    {
     "data": {
      "text/plain": [
       "<Figure size 640x480 with 1 Axes>"
      ],
      "image/png": "[encoded data removed]"
     },
     "metadata": {},
     "output_type": "display_data"
    }
   ],
   "execution_count": 34
  },
  {
   "metadata": {
    "ExecuteTime": {
     "end_time": "2025-05-05T05:19:12.460171Z",
     "start_time": "2025-05-05T05:19:12.452052Z"
    }
   },
   "cell_type": "code",
   "source": [
    "df = pd.read_csv('database/potion_distance.csv')\n",
    "df"
   ],
   "id": "1d324c7c45a5544f",
   "outputs": [
    {
     "data": {
      "text/plain": [
       "      Potion  Tier    Distance\n",
       "0  SWIFTNESS     3  129.022921\n",
       "1     GROWTH     3  306.836843"
      ],
      "text/html": [
       "<div>\n",
       "<style scoped>\n",
       "    .dataframe tbody tr th:only-of-type {\n",
       "        vertical-align: middle;\n",
       "    }\n",
       "\n",
       "    .dataframe tbody tr th {\n",
       "        vertical-align: top;\n",
       "    }\n",
       "\n",
       "    .dataframe thead th {\n",
       "        text-align: right;\n",
       "    }\n",
       "</style>\n",
       "<table border=\"1\" class=\"dataframe\">\n",
       "  <thead>\n",
       "    <tr style=\"text-align: right;\">\n",
       "      <th></th>\n",
       "      <th>Potion</th>\n",
       "      <th>Tier</th>\n",
       "      <th>Distance</th>\n",
       "    </tr>\n",
       "  </thead>\n",
       "  <tbody>\n",
       "    <tr>\n",
       "      <th>0</th>\n",
       "      <td>SWIFTNESS</td>\n",
       "      <td>3</td>\n",
       "      <td>129.022921</td>\n",
       "    </tr>\n",
       "    <tr>\n",
       "      <th>1</th>\n",
       "      <td>GROWTH</td>\n",
       "      <td>3</td>\n",
       "      <td>306.836843</td>\n",
       "    </tr>\n",
       "  </tbody>\n",
       "</table>\n",
       "</div>"
      ]
     },
     "execution_count": 35,
     "metadata": {},
     "output_type": "execute_result"
    }
   ],
   "execution_count": 35
  },
  {
   "metadata": {
    "ExecuteTime": {
     "end_time": "2025-05-05T05:20:18.249235Z",
     "start_time": "2025-05-05T05:20:18.242361Z"
    }
   },
   "cell_type": "code",
   "source": "Config.POTION_DISPLACEMENT",
   "id": "dba2034a1c449ff",
   "outputs": [
    {
     "data": {
      "text/plain": [
       "{'HEAL': 250.0,\n",
       " 'POISON': 282.842712474619,\n",
       " 'FIRE': 450.6939094329987,\n",
       " 'FROST': 455.411901469428,\n",
       " 'STRENGTH': 500.22494939776846,\n",
       " 'LIGHTNING': 610.3277807866851,\n",
       " 'GROWTH': 622.4146527838175,\n",
       " 'SWIFTNESS': 650.0769185258004,\n",
       " 'MANA': 691.4658342969666,\n",
       " 'SLEEP': 707.1067811865476,\n",
       " 'RAGE': 781.0249675906655,\n",
       " 'LIGHT': 821.5229759416349,\n",
       " 'SLOW': 825.8480489775344,\n",
       " 'DEXITY': 850.0,\n",
       " 'EXPLOSION': 861.6263691415206,\n",
       " 'STONE': 894.4271909999159}"
      ]
     },
     "execution_count": 42,
     "metadata": {},
     "output_type": "execute_result"
    }
   ],
   "execution_count": 42
  },
  {
   "metadata": {
    "ExecuteTime": {
     "end_time": "2025-05-05T05:19:12.467280Z",
     "start_time": "2025-05-05T05:19:12.461170Z"
    }
   },
   "cell_type": "code",
   "source": [
    "dfline = pd.DataFrame.from_dict(Config.POTION_DISPLACEMENT, orient='index')\n",
    "dfline"
   ],
   "id": "884669b227335ed3",
   "outputs": [
    {
     "data": {
      "text/plain": [
       "                    0\n",
       "HEAL       250.000000\n",
       "POISON     282.842712\n",
       "FIRE       450.693909\n",
       "FROST      455.411901\n",
       "STRENGTH   500.224949\n",
       "LIGHTNING  610.327781\n",
       "GROWTH     622.414653\n",
       "SWIFTNESS  650.076919\n",
       "MANA       691.465834\n",
       "SLEEP      707.106781\n",
       "RAGE       781.024968\n",
       "LIGHT      821.522976\n",
       "SLOW       825.848049\n",
       "DEXITY     850.000000\n",
       "EXPLOSION  861.626369\n",
       "STONE      894.427191"
      ],
      "text/html": [
       "<div>\n",
       "<style scoped>\n",
       "    .dataframe tbody tr th:only-of-type {\n",
       "        vertical-align: middle;\n",
       "    }\n",
       "\n",
       "    .dataframe tbody tr th {\n",
       "        vertical-align: top;\n",
       "    }\n",
       "\n",
       "    .dataframe thead th {\n",
       "        text-align: right;\n",
       "    }\n",
       "</style>\n",
       "<table border=\"1\" class=\"dataframe\">\n",
       "  <thead>\n",
       "    <tr style=\"text-align: right;\">\n",
       "      <th></th>\n",
       "      <th>0</th>\n",
       "    </tr>\n",
       "  </thead>\n",
       "  <tbody>\n",
       "    <tr>\n",
       "      <th>HEAL</th>\n",
       "      <td>250.000000</td>\n",
       "    </tr>\n",
       "    <tr>\n",
       "      <th>POISON</th>\n",
       "      <td>282.842712</td>\n",
       "    </tr>\n",
       "    <tr>\n",
       "      <th>FIRE</th>\n",
       "      <td>450.693909</td>\n",
       "    </tr>\n",
       "    <tr>\n",
       "      <th>FROST</th>\n",
       "      <td>455.411901</td>\n",
       "    </tr>\n",
       "    <tr>\n",
       "      <th>STRENGTH</th>\n",
       "      <td>500.224949</td>\n",
       "    </tr>\n",
       "    <tr>\n",
       "      <th>LIGHTNING</th>\n",
       "      <td>610.327781</td>\n",
       "    </tr>\n",
       "    <tr>\n",
       "      <th>GROWTH</th>\n",
       "      <td>622.414653</td>\n",
       "    </tr>\n",
       "    <tr>\n",
       "      <th>SWIFTNESS</th>\n",
       "      <td>650.076919</td>\n",
       "    </tr>\n",
       "    <tr>\n",
       "      <th>MANA</th>\n",
       "      <td>691.465834</td>\n",
       "    </tr>\n",
       "    <tr>\n",
       "      <th>SLEEP</th>\n",
       "      <td>707.106781</td>\n",
       "    </tr>\n",
       "    <tr>\n",
       "      <th>RAGE</th>\n",
       "      <td>781.024968</td>\n",
       "    </tr>\n",
       "    <tr>\n",
       "      <th>LIGHT</th>\n",
       "      <td>821.522976</td>\n",
       "    </tr>\n",
       "    <tr>\n",
       "      <th>SLOW</th>\n",
       "      <td>825.848049</td>\n",
       "    </tr>\n",
       "    <tr>\n",
       "      <th>DEXITY</th>\n",
       "      <td>850.000000</td>\n",
       "    </tr>\n",
       "    <tr>\n",
       "      <th>EXPLOSION</th>\n",
       "      <td>861.626369</td>\n",
       "    </tr>\n",
       "    <tr>\n",
       "      <th>STONE</th>\n",
       "      <td>894.427191</td>\n",
       "    </tr>\n",
       "  </tbody>\n",
       "</table>\n",
       "</div>"
      ]
     },
     "execution_count": 36,
     "metadata": {},
     "output_type": "execute_result"
    }
   ],
   "execution_count": 36
  },
  {
   "metadata": {
    "ExecuteTime": {
     "end_time": "2025-05-05T05:19:12.472825Z",
     "start_time": "2025-05-05T05:19:12.468278Z"
    }
   },
   "cell_type": "code",
   "source": "dfline.index",
   "id": "d965e59ab9c05739",
   "outputs": [
    {
     "data": {
      "text/plain": [
       "Index(['HEAL', 'POISON', 'FIRE', 'FROST', 'STRENGTH', 'LIGHTNING', 'GROWTH',\n",
       "       'SWIFTNESS', 'MANA', 'SLEEP', 'RAGE', 'LIGHT', 'SLOW', 'DEXITY',\n",
       "       'EXPLOSION', 'STONE'],\n",
       "      dtype='object')"
      ]
     },
     "execution_count": 37,
     "metadata": {},
     "output_type": "execute_result"
    }
   ],
   "execution_count": 37
  },
  {
   "metadata": {
    "ExecuteTime": {
     "end_time": "2025-05-05T05:19:12.477513Z",
     "start_time": "2025-05-05T05:19:12.472825Z"
    }
   },
   "cell_type": "code",
   "source": "dfline[0]",
   "id": "336f1e0449f7b9b2",
   "outputs": [
    {
     "data": {
      "text/plain": [
       "HEAL         250.000000\n",
       "POISON       282.842712\n",
       "FIRE         450.693909\n",
       "FROST        455.411901\n",
       "STRENGTH     500.224949\n",
       "LIGHTNING    610.327781\n",
       "GROWTH       622.414653\n",
       "SWIFTNESS    650.076919\n",
       "MANA         691.465834\n",
       "SLEEP        707.106781\n",
       "RAGE         781.024968\n",
       "LIGHT        821.522976\n",
       "SLOW         825.848049\n",
       "DEXITY       850.000000\n",
       "EXPLOSION    861.626369\n",
       "STONE        894.427191\n",
       "Name: 0, dtype: float64"
      ]
     },
     "execution_count": 38,
     "metadata": {},
     "output_type": "execute_result"
    }
   ],
   "execution_count": 38
  },
  {
   "metadata": {
    "ExecuteTime": {
     "end_time": "2025-05-05T05:19:12.481671Z",
     "start_time": "2025-05-05T05:19:12.477513Z"
    }
   },
   "cell_type": "code",
   "source": [
    "ax.plot(dfline.index, dfline[0])\n",
    "plt.show()"
   ],
   "id": "e92138252407e016",
   "outputs": [],
   "execution_count": 39
  },
  {
   "metadata": {
    "ExecuteTime": {
     "end_time": "2025-05-05T05:19:12.484269Z",
     "start_time": "2025-05-05T05:19:12.481671Z"
    }
   },
   "cell_type": "code",
   "source": "",
   "id": "be8aba56cbeb31a3",
   "outputs": [],
   "execution_count": 39
  },
  {
   "metadata": {
    "ExecuteTime": {
     "end_time": "2025-05-05T05:19:12.621944Z",
     "start_time": "2025-05-05T05:19:12.484269Z"
    }
   },
   "cell_type": "code",
   "source": [
    "fig, ax = plt.subplots()\n",
    "ax.plot(dfline.index, dfline[0])\n",
    "for tier in df['Tier'].unique():\n",
    "    subset = df[df['Tier'] == tier]\n",
    "    ax.scatter(subset['Potion'], subset['Distance'], \n",
    "               label=tier)\n",
    "\n",
    "    \n",
    "ax.legend()"
   ],
   "id": "e20d90fcfc9fb5e6",
   "outputs": [
    {
     "data": {
      "text/plain": [
       "<matplotlib.legend.Legend at 0x2278b67bad0>"
      ]
     },
     "execution_count": 40,
     "metadata": {},
     "output_type": "execute_result"
    },
    {
     "data": {
      "text/plain": [
       "<Figure size 640x480 with 1 Axes>"
      ],
      "image/png": "[encoded data removed]"
     },
     "metadata": {},
     "output_type": "display_data"
    }
   ],
   "execution_count": 40
  },
  {
   "metadata": {
    "ExecuteTime": {
     "end_time": "2025-05-05T05:19:12.624522Z",
     "start_time": "2025-05-05T05:19:12.621944Z"
    }
   },
   "cell_type": "code",
   "source": "",
   "id": "7e027fe940f623e0",
   "outputs": [],
   "execution_count": 40
  },
  {
   "metadata": {
    "ExecuteTime": {
     "end_time": "2025-05-05T06:42:41.388108Z",
     "start_time": "2025-05-05T06:42:41.307904Z"
    }
   },
   "cell_type": "code",
   "source": [
    "import matplotlib.pyplot as plt\n",
    "import numpy as np\n",
    "\n",
    "# Sample data\n",
    "data = [['A', 10], ['B', 20], ['C', 30]]\n",
    "columns = ['Category', 'Value']\n",
    "\n",
    "# Create a figure and an axes\n",
    "fig, ax = plt.subplots()\n",
    "\n",
    "# Hide the axes\n",
    "ax.set_axis_off()\n",
    "\n",
    "# Create the table\n",
    "table = ax.table(cellText=data, colLabels=columns, loc='center', cellLoc='center')\n",
    "\n",
    "# Adjust the table's layout\n",
    "table.auto_set_font_size(False)\n",
    "table.set_fontsize(10)\n",
    "table.scale(1, 1.5)\n",
    "\n",
    "# Show the plot with the table\n",
    "plt.show()"
   ],
   "id": "a875cf823a3055b5",
   "outputs": [
    {
     "data": {
      "text/plain": [
       "<Figure size 640x480 with 1 Axes>"
      ],
      "image/png": "[encoded data removed]"
     },
     "metadata": {},
     "output_type": "display_data"
    }
   ],
   "execution_count": 43
  },
  {
   "metadata": {
    "ExecuteTime": {
     "end_time": "2025-05-05T09:11:46.998370Z",
     "start_time": "2025-05-05T09:11:46.946867Z"
    }
   },
   "cell_type": "code",
   "source": [
    "hdf = pd.read_csv('database/haggle_fail.csv')\n",
    "hdf"
   ],
   "id": "ec55e66a55c1bed2",
   "outputs": [
    {
     "data": {
      "text/plain": [
       "    Number_of_bar  Speed  Success\n",
       "0               5      1     True\n",
       "1               5      1     True\n",
       "2               5      1     True\n",
       "3               5      1     True\n",
       "4               5      1     True\n",
       "5               5      1     True\n",
       "6               5      1    False\n",
       "7               5      3     True\n",
       "8               5      3     True\n",
       "9               5      3     True\n",
       "10              5      3     True\n",
       "11              5      3    False\n",
       "12              5      3     True\n",
       "13              5      3     True\n",
       "14              5      3     True\n",
       "15              5      3    False\n",
       "16              5      3    False"
      ],
      "text/html": [
       "<div>\n",
       "<style scoped>\n",
       "    .dataframe tbody tr th:only-of-type {\n",
       "        vertical-align: middle;\n",
       "    }\n",
       "\n",
       "    .dataframe tbody tr th {\n",
       "        vertical-align: top;\n",
       "    }\n",
       "\n",
       "    .dataframe thead th {\n",
       "        text-align: right;\n",
       "    }\n",
       "</style>\n",
       "<table border=\"1\" class=\"dataframe\">\n",
       "  <thead>\n",
       "    <tr style=\"text-align: right;\">\n",
       "      <th></th>\n",
       "      <th>Number_of_bar</th>\n",
       "      <th>Speed</th>\n",
       "      <th>Success</th>\n",
       "    </tr>\n",
       "  </thead>\n",
       "  <tbody>\n",
       "    <tr>\n",
       "      <th>0</th>\n",
       "      <td>5</td>\n",
       "      <td>1</td>\n",
       "      <td>True</td>\n",
       "    </tr>\n",
       "    <tr>\n",
       "      <th>1</th>\n",
       "      <td>5</td>\n",
       "      <td>1</td>\n",
       "      <td>True</td>\n",
       "    </tr>\n",
       "    <tr>\n",
       "      <th>2</th>\n",
       "      <td>5</td>\n",
       "      <td>1</td>\n",
       "      <td>True</td>\n",
       "    </tr>\n",
       "    <tr>\n",
       "      <th>3</th>\n",
       "      <td>5</td>\n",
       "      <td>1</td>\n",
       "      <td>True</td>\n",
       "    </tr>\n",
       "    <tr>\n",
       "      <th>4</th>\n",
       "      <td>5</td>\n",
       "      <td>1</td>\n",
       "      <td>True</td>\n",
       "    </tr>\n",
       "    <tr>\n",
       "      <th>5</th>\n",
       "      <td>5</td>\n",
       "      <td>1</td>\n",
       "      <td>True</td>\n",
       "    </tr>\n",
       "    <tr>\n",
       "      <th>6</th>\n",
       "      <td>5</td>\n",
       "      <td>1</td>\n",
       "      <td>False</td>\n",
       "    </tr>\n",
       "    <tr>\n",
       "      <th>7</th>\n",
       "      <td>5</td>\n",
       "      <td>3</td>\n",
       "      <td>True</td>\n",
       "    </tr>\n",
       "    <tr>\n",
       "      <th>8</th>\n",
       "      <td>5</td>\n",
       "      <td>3</td>\n",
       "      <td>True</td>\n",
       "    </tr>\n",
       "    <tr>\n",
       "      <th>9</th>\n",
       "      <td>5</td>\n",
       "      <td>3</td>\n",
       "      <td>True</td>\n",
       "    </tr>\n",
       "    <tr>\n",
       "      <th>10</th>\n",
       "      <td>5</td>\n",
       "      <td>3</td>\n",
       "      <td>True</td>\n",
       "    </tr>\n",
       "    <tr>\n",
       "      <th>11</th>\n",
       "      <td>5</td>\n",
       "      <td>3</td>\n",
       "      <td>False</td>\n",
       "    </tr>\n",
       "    <tr>\n",
       "      <th>12</th>\n",
       "      <td>5</td>\n",
       "      <td>3</td>\n",
       "      <td>True</td>\n",
       "    </tr>\n",
       "    <tr>\n",
       "      <th>13</th>\n",
       "      <td>5</td>\n",
       "      <td>3</td>\n",
       "      <td>True</td>\n",
       "    </tr>\n",
       "    <tr>\n",
       "      <th>14</th>\n",
       "      <td>5</td>\n",
       "      <td>3</td>\n",
       "      <td>True</td>\n",
       "    </tr>\n",
       "    <tr>\n",
       "      <th>15</th>\n",
       "      <td>5</td>\n",
       "      <td>3</td>\n",
       "      <td>False</td>\n",
       "    </tr>\n",
       "    <tr>\n",
       "      <th>16</th>\n",
       "      <td>5</td>\n",
       "      <td>3</td>\n",
       "      <td>False</td>\n",
       "    </tr>\n",
       "  </tbody>\n",
       "</table>\n",
       "</div>"
      ]
     },
     "execution_count": 44,
     "metadata": {},
     "output_type": "execute_result"
    }
   ],
   "execution_count": 44
  },
  {
   "metadata": {
    "ExecuteTime": {
     "end_time": "2025-05-05T09:22:45.703986Z",
     "start_time": "2025-05-05T09:22:45.695016Z"
    }
   },
   "cell_type": "code",
   "source": [
    "h = hdf.groupby('Speed')['Success'].mean()\n",
    "h"
   ],
   "id": "e01b928981a9c88e",
   "outputs": [
    {
     "data": {
      "text/plain": [
       "Speed\n",
       "1    0.857143\n",
       "3    0.700000\n",
       "Name: Success, dtype: float64"
      ]
     },
     "execution_count": 59,
     "metadata": {},
     "output_type": "execute_result"
    }
   ],
   "execution_count": 59
  },
  {
   "metadata": {
    "ExecuteTime": {
     "end_time": "2025-05-05T09:23:45.617584Z",
     "start_time": "2025-05-05T09:23:45.610410Z"
    }
   },
   "cell_type": "code",
   "source": "h[1]",
   "id": "281cc29f71896dfd",
   "outputs": [
    {
     "data": {
      "text/plain": [
       "np.float64(0.8571428571428571)"
      ]
     },
     "execution_count": 60,
     "metadata": {},
     "output_type": "execute_result"
    }
   ],
   "execution_count": 60
  },
  {
   "metadata": {},
   "cell_type": "code",
   "outputs": [],
   "execution_count": null,
   "source": "",
   "id": "e1b1269901bbca8b"
  }
 ],
 "metadata": {
  "kernelspec": {
   "display_name": "Python 3",
   "language": "python",
   "name": "python3"
  },
  "language_info": {
   "codemirror_mode": {
    "name": "ipython",
    "version": 2
   },
   "file_extension": ".py",
   "mimetype": "text/x-python",
   "name": "python",
   "nbconvert_exporter": "python",
   "pygments_lexer": "ipython2",
   "version": "2.7.6"
  }
 },
 "nbformat": 4,
 "nbformat_minor": 5
}
